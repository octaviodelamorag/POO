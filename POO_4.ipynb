{
  "nbformat": 4,
  "nbformat_minor": 0,
  "metadata": {
    "colab": {
      "provenance": []
    },
    "kernelspec": {
      "name": "python3",
      "display_name": "Python 3"
    },
    "language_info": {
      "name": "python"
    }
  },
  "cells": [
    {
      "cell_type": "code",
      "source": [
        "class Mascota(): #Clase madre\n",
        "\n",
        "    def __init__(self): #Init es la función que se necesita para empezar a definir\n",
        "     print(\"Creamos una clase madre\")\n",
        "\n",
        "    def adivina(self): #Adivina es un poliformismo\n",
        "      print(\"Hola, soy un perro\")\n",
        "\n",
        "    def hablar(self):\n",
        "      print(\"Ladro\")\n",
        "\n",
        "\n",
        "\n",
        "\n"
      ],
      "metadata": {
        "id": "wRfnf8asdqyl"
      },
      "execution_count": 18,
      "outputs": []
    },
    {
      "cell_type": "code",
      "source": [
        "mascota=Mascota()"
      ],
      "metadata": {
        "colab": {
          "base_uri": "https://localhost:8080/"
        },
        "id": "4_Ue0Nogf-sJ",
        "outputId": "9134ae42-4d6e-4cb3-966c-631c0451671b"
      },
      "execution_count": 19,
      "outputs": [
        {
          "output_type": "stream",
          "name": "stdout",
          "text": [
            "Creamos una clase madre\n"
          ]
        }
      ]
    },
    {
      "cell_type": "code",
      "source": [
        "mascota.hablar()"
      ],
      "metadata": {
        "colab": {
          "base_uri": "https://localhost:8080/"
        },
        "id": "UXUhLprvgJdw",
        "outputId": "8fa7fb60-3e31-4834-d4cd-39ec6ea33b19"
      },
      "execution_count": 20,
      "outputs": [
        {
          "output_type": "stream",
          "name": "stdout",
          "text": [
            "Ladro\n"
          ]
        }
      ]
    },
    {
      "cell_type": "markdown",
      "source": [
        "# Crear una herencia"
      ],
      "metadata": {
        "id": "4F1wslgegqG3"
      }
    },
    {
      "cell_type": "code",
      "source": [
        "class Perro(Mascota):\n",
        "\n",
        "  def __init__(self):\n",
        "    Mascota. __init__(self)\n",
        "    print(\"Creamos una clase heredada\")\n",
        "\n",
        "  def nombre(self):\n",
        "    print(\"Luna\")\n",
        "\n",
        "  def adivina(self):\n",
        "    print(\"Golden\")\n",
        "\n",
        "  def idioma(self):\n",
        "    print(\"WUAF\")"
      ],
      "metadata": {
        "id": "pftDY2YbgsMw"
      },
      "execution_count": 21,
      "outputs": []
    },
    {
      "cell_type": "code",
      "source": [
        "perro=Perro() #Llamamos a la clase heredada"
      ],
      "metadata": {
        "colab": {
          "base_uri": "https://localhost:8080/"
        },
        "id": "9q9K_KhLiMYE",
        "outputId": "b3f5fe37-29dc-4700-b313-82e9688e71d8"
      },
      "execution_count": 22,
      "outputs": [
        {
          "output_type": "stream",
          "name": "stdout",
          "text": [
            "Creamos una clase madre\n",
            "Creamos una clase heredada\n"
          ]
        }
      ]
    },
    {
      "cell_type": "code",
      "source": [
        "perro.adivina()"
      ],
      "metadata": {
        "colab": {
          "base_uri": "https://localhost:8080/"
        },
        "id": "G4KhQTKMjpZ7",
        "outputId": "0cb6b9c4-5f06-4cbc-8a72-1981a1476480"
      },
      "execution_count": 23,
      "outputs": [
        {
          "output_type": "stream",
          "name": "stdout",
          "text": [
            "Golden\n"
          ]
        }
      ]
    },
    {
      "cell_type": "code",
      "source": [
        "perro.idioma()"
      ],
      "metadata": {
        "colab": {
          "base_uri": "https://localhost:8080/"
        },
        "id": "TEgvVTUZk6NW",
        "outputId": "12dd3065-abaf-47b5-a715-8de1664c2234"
      },
      "execution_count": 24,
      "outputs": [
        {
          "output_type": "stream",
          "name": "stdout",
          "text": [
            "WUAF\n"
          ]
        }
      ]
    },
    {
      "cell_type": "code",
      "source": [
        "class Personal(): #clase madre\n",
        "  def __init__(self):\n",
        "    print(\"Creamos una clase madre\")\n",
        "\n",
        "  def nombre(self):\n",
        "    print(\"Me llamo Octavio de la Mora\")\n",
        "\n",
        "  def hobby(self):\n",
        "    print(\"Me gusta jugar videojuegos y futbol\")\n",
        "\n",
        "  def gustos(self):\n",
        "    print(\"Me gusta comer y hacer ejercicio\")"
      ],
      "metadata": {
        "id": "7CX74l8wmjXk"
      },
      "execution_count": 25,
      "outputs": []
    },
    {
      "cell_type": "code",
      "source": [
        "personal=Personal()"
      ],
      "metadata": {
        "colab": {
          "base_uri": "https://localhost:8080/"
        },
        "id": "H370lYfxnOka",
        "outputId": "d7d7cfee-13ed-410d-a86b-4ee4718449b9"
      },
      "execution_count": 26,
      "outputs": [
        {
          "output_type": "stream",
          "name": "stdout",
          "text": [
            "Creamos una clase madre\n"
          ]
        }
      ]
    },
    {
      "cell_type": "code",
      "source": [
        "personal.nombre()"
      ],
      "metadata": {
        "colab": {
          "base_uri": "https://localhost:8080/"
        },
        "id": "v8LcxNadnY1z",
        "outputId": "07119f54-c6c5-405e-dbd3-9c3b0ed690da"
      },
      "execution_count": 27,
      "outputs": [
        {
          "output_type": "stream",
          "name": "stdout",
          "text": [
            "Me llamo Octavio de la Mora\n"
          ]
        }
      ]
    },
    {
      "cell_type": "code",
      "source": [
        "personal.hobby()"
      ],
      "metadata": {
        "colab": {
          "base_uri": "https://localhost:8080/"
        },
        "id": "i9C9gGaWndpi",
        "outputId": "e08cea24-37e2-4906-9bfc-3986a86c9dc7"
      },
      "execution_count": 28,
      "outputs": [
        {
          "output_type": "stream",
          "name": "stdout",
          "text": [
            "Me gusta jugar videojuegos y futbol\n"
          ]
        }
      ]
    },
    {
      "cell_type": "code",
      "source": [
        "personal.gustos()"
      ],
      "metadata": {
        "colab": {
          "base_uri": "https://localhost:8080/"
        },
        "id": "K2rWGfsloEtB",
        "outputId": "e1a0db58-45b9-4d29-9265-6d3caf09162c"
      },
      "execution_count": 29,
      "outputs": [
        {
          "output_type": "stream",
          "name": "stdout",
          "text": [
            "Me gusta comer y hacer\n"
          ]
        }
      ]
    },
    {
      "cell_type": "code",
      "source": [
        "class Familia(Personal):\n",
        "\n",
        "  def __init__(self):\n",
        "    Mascota. __init__(self)\n",
        "    print(\"Se hace una clase con herencia\")\n",
        "\n",
        "  def nombre(self):\n",
        "    print(\"Pilar\")\n",
        "\n",
        "  def mascota(self):\n",
        "    print(\"Tenemos 7 perros\")\n",
        "\n",
        "  def apodo(self):\n",
        "    print(\"Se llaman: Amin, Yuri, Beto, Lorenzo, Tomasa, Sol y Luna\")"
      ],
      "metadata": {
        "id": "6XCALydrnim6"
      },
      "execution_count": 30,
      "outputs": []
    },
    {
      "cell_type": "code",
      "source": [
        "familia=Familia()"
      ],
      "metadata": {
        "colab": {
          "base_uri": "https://localhost:8080/"
        },
        "id": "z3YNgLBHoh4w",
        "outputId": "5d92c084-55e5-418b-aab8-eb5a480d91d9"
      },
      "execution_count": 31,
      "outputs": [
        {
          "output_type": "stream",
          "name": "stdout",
          "text": [
            "Creamos una clase madre\n",
            "Se hace una clase con herencia\n"
          ]
        }
      ]
    },
    {
      "cell_type": "code",
      "source": [
        "familia.nombre()"
      ],
      "metadata": {
        "colab": {
          "base_uri": "https://localhost:8080/"
        },
        "id": "thY4wIkooqeH",
        "outputId": "0f5912b1-c317-4fa9-ff4f-6cf80041d24f"
      },
      "execution_count": 32,
      "outputs": [
        {
          "output_type": "stream",
          "name": "stdout",
          "text": [
            "Pilar\n"
          ]
        }
      ]
    },
    {
      "cell_type": "code",
      "source": [
        "familia.mascota()"
      ],
      "metadata": {
        "colab": {
          "base_uri": "https://localhost:8080/"
        },
        "id": "3jucFsbNouAP",
        "outputId": "1cef2131-cbc2-4c9a-e9cc-732f335bb343"
      },
      "execution_count": 33,
      "outputs": [
        {
          "output_type": "stream",
          "name": "stdout",
          "text": [
            "Tenemos 7 perros\n"
          ]
        }
      ]
    },
    {
      "cell_type": "code",
      "source": [
        "familia.apodo()"
      ],
      "metadata": {
        "id": "U28IN5PaownX",
        "outputId": "065cf114-37ca-4751-be27-dd364e9c65c2",
        "colab": {
          "base_uri": "https://localhost:8080/"
        }
      },
      "execution_count": 34,
      "outputs": [
        {
          "output_type": "stream",
          "name": "stdout",
          "text": [
            "Se llaman: Amin, Yuri, Beto, Lorenzo, Tomasa, Sol y Luna\n"
          ]
        }
      ]
    }
  ]
}
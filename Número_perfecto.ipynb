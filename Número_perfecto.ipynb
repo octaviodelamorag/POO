{
  "nbformat": 4,
  "nbformat_minor": 0,
  "metadata": {
    "colab": {
      "provenance": []
    },
    "kernelspec": {
      "name": "python3",
      "display_name": "Python 3"
    },
    "language_info": {
      "name": "python"
    }
  },
  "cells": [
    {
      "cell_type": "code",
      "execution_count": null,
      "metadata": {
        "id": "35_QXg9J2p6y"
      },
      "outputs": [],
      "source": [
        "n=int(input(\"Ingresa:\"))\n",
        "\n",
        "L=[i for i in range (1,n)if n%i==0]\n",
        "L"
      ]
    },
    {
      "cell_type": "code",
      "source": [
        "if(sum(L)==n):\n",
        "  print(\"Es perfecto\")"
      ],
      "metadata": {
        "id": "k9HZzum3rx1O"
      },
      "execution_count": null,
      "outputs": []
    }
  ]
}
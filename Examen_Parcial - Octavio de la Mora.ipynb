{
  "nbformat": 4,
  "nbformat_minor": 0,
  "metadata": {
    "colab": {
      "provenance": []
    },
    "kernelspec": {
      "name": "python3",
      "display_name": "Python 3"
    },
    "language_info": {
      "name": "python"
    }
  },
  "cells": [
    {
      "cell_type": "code",
      "execution_count": 195,
      "metadata": {
        "id": "YGuVKN4jnMtW"
      },
      "outputs": [],
      "source": []
    },
    {
      "cell_type": "markdown",
      "source": [
        "# Primer parcial\n",
        "### Area y perimetros de triángulos\n",
        "### Lista de elementos a una matriz 4x4\n",
        "### Calcular la determinante"
      ],
      "metadata": {
        "id": "kxDDHsRKnNnL"
      }
    },
    {
      "cell_type": "code",
      "source": [
        "# Fórmula de áreas, perimetros de triangulos equilateros\n",
        "import numpy as Octavius\n",
        "#Importar los datos con el nombre de Octavius\n",
        "\n",
        "class Examen():\n",
        "  def __init__(self):\n",
        "    print(\"Examen Parcial\")\n"
      ],
      "metadata": {
        "id": "c0EMZwsQn3a6"
      },
      "execution_count": 196,
      "outputs": []
    },
    {
      "cell_type": "code",
      "source": [
        "examen = Examen()"
      ],
      "metadata": {
        "colab": {
          "base_uri": "https://localhost:8080/"
        },
        "id": "q0NQkwBm41UT",
        "outputId": "8e6ab805-5466-47b1-e866-b62db6c6c12d"
      },
      "execution_count": 197,
      "outputs": [
        {
          "output_type": "stream",
          "name": "stdout",
          "text": [
            "Examen Parcial\n"
          ]
        }
      ]
    },
    {
      "cell_type": "code",
      "source": [
        "class Triangulo(Examen):\n",
        "\n",
        "  def __init__(self):\n",
        "    Examen.__init__(self)\n",
        "    print(\"Clase heredada de triangulo\")\n",
        "\n",
        "  def ap_triangulo(self):\n",
        "    lado = int(input(\"Ingrese un valor \"))\n",
        "    h = ((lado*Octavius.sqrt(3))/2)\n",
        "    area = (lado*2*Octavius.sqrt(3)/4)\n",
        "    perimetro = 3*lado\n",
        "\n",
        "    #Regresar los datos con el valor dado por el usuario\n",
        "    print(\"Su triangulo de \", lado, \"por lado tiene los siguientes valores: \")\n",
        "    print(\"El área es:\", area)\n",
        "    print(\"El perimetro es:\", perimetro)\n"
      ],
      "metadata": {
        "id": "89EtJZXd4hi2"
      },
      "execution_count": 198,
      "outputs": []
    },
    {
      "cell_type": "code",
      "source": [
        "triangulo = Triangulo()"
      ],
      "metadata": {
        "colab": {
          "base_uri": "https://localhost:8080/"
        },
        "id": "0nI9Q9Tr5hAz",
        "outputId": "af0607ee-ef44-432b-d0cc-44f8a463c3b1"
      },
      "execution_count": 199,
      "outputs": [
        {
          "output_type": "stream",
          "name": "stdout",
          "text": [
            "Examen Parcial\n",
            "Clase heredada de triangulo\n"
          ]
        }
      ]
    },
    {
      "cell_type": "code",
      "source": [
        "triangulo.ap_triangulo()"
      ],
      "metadata": {
        "colab": {
          "base_uri": "https://localhost:8080/"
        },
        "id": "d35NK7eD5TWQ",
        "outputId": "8b37e867-7d13-47dc-f2e9-f5153eefdf7e"
      },
      "execution_count": 200,
      "outputs": [
        {
          "output_type": "stream",
          "name": "stdout",
          "text": [
            "Ingrese un valor 3\n",
            "Su triangulo de  3 por lado tiene los siguientes valores: \n",
            "El área es: 2.598076211353316\n",
            "El perimetro es: 9\n"
          ]
        }
      ]
    },
    {
      "cell_type": "code",
      "source": [
        "class Matriz(Examen):\n",
        "\n",
        "  def __init__(self):\n",
        "    Examen.__init__(self)\n",
        "    print(\"Clase heredada de la Matriz\")\n",
        "\n",
        "    def matriz(self, numeros):\n",
        "        print(Octavius.array(numeros).reshape(4, 4))\n",
        "\n",
        "    def determinante(self,Primer):\n",
        "        print(Octavius.linalg.det(Primer))\n",
        "\n",
        "class TransformarMatriz(Matriz):\n",
        "        def __init__(self, numeros):\n",
        "            self.numeros = numeros\n",
        "\n",
        "        def transformar(self):\n",
        "            return Octavius.array(self.numeros).reshape(4,4)\n",
        "\n",
        "class CalcularDeterminante():\n",
        "    def __init__(self, matriz, determinante):\n",
        "      Examen.__init__(self)\n",
        "      self.matriz = matriz\n",
        "\n",
        "      def determinante():\n",
        "        print(Octavius.linalg.det(matriz))"
      ],
      "metadata": {
        "id": "UdQRVr0P5wtp"
      },
      "execution_count": 213,
      "outputs": []
    },
    {
      "cell_type": "code",
      "source": [
        "matriz = Matriz()"
      ],
      "metadata": {
        "colab": {
          "base_uri": "https://localhost:8080/"
        },
        "id": "FPIFgHy1DnPG",
        "outputId": "fd558e9f-1756-4e5f-b444-01c538547bf6"
      },
      "execution_count": 202,
      "outputs": [
        {
          "output_type": "stream",
          "name": "stdout",
          "text": [
            "Examen Parcial\n",
            "Clase heredada de la Matriz\n"
          ]
        }
      ]
    },
    {
      "cell_type": "code",
      "source": [
        "numeros = [i for i in range (1,17)]\n",
        "transformador = TransformarMatriz(numeros)\n",
        "matriz = transformador.transformar()\n",
        "print(\"Matriz 4x4: \")\n",
        "print(matriz)"
      ],
      "metadata": {
        "colab": {
          "base_uri": "https://localhost:8080/"
        },
        "id": "g60Q7pEMDxKN",
        "outputId": "6c0d45ce-cb05-4a9e-aa5b-d8d3ebdcf369"
      },
      "execution_count": 203,
      "outputs": [
        {
          "output_type": "stream",
          "name": "stdout",
          "text": [
            "Matriz 4x4: \n",
            "[[ 1  2  3  4]\n",
            " [ 5  6  7  8]\n",
            " [ 9 10 11 12]\n",
            " [13 14 15 16]]\n"
          ]
        }
      ]
    },
    {
      "cell_type": "code",
      "source": [
        "calculador = CalcularDeterminante(matriz)\n",
        "determinante = calculador.determinante()\n",
        "print(\"Determinante:\", determinante)"
      ],
      "metadata": {
        "colab": {
          "base_uri": "https://localhost:8080/",
          "height": 181
        },
        "id": "fGtmMDKcMr4C",
        "outputId": "5416096a-11bf-46eb-c83c-87705faa2f75"
      },
      "execution_count": 214,
      "outputs": [
        {
          "output_type": "error",
          "ename": "TypeError",
          "evalue": "CalcularDeterminante.__init__() missing 1 required positional argument: 'determinante'",
          "traceback": [
            "\u001b[0;31m---------------------------------------------------------------------------\u001b[0m",
            "\u001b[0;31mTypeError\u001b[0m                                 Traceback (most recent call last)",
            "\u001b[0;32m<ipython-input-214-a1e81e654a6c>\u001b[0m in \u001b[0;36m<cell line: 1>\u001b[0;34m()\u001b[0m\n\u001b[0;32m----> 1\u001b[0;31m \u001b[0mcalculador\u001b[0m \u001b[0;34m=\u001b[0m \u001b[0mCalcularDeterminante\u001b[0m\u001b[0;34m(\u001b[0m\u001b[0mmatriz\u001b[0m\u001b[0;34m)\u001b[0m\u001b[0;34m\u001b[0m\u001b[0;34m\u001b[0m\u001b[0m\n\u001b[0m\u001b[1;32m      2\u001b[0m \u001b[0mdeterminante\u001b[0m \u001b[0;34m=\u001b[0m \u001b[0mcalculador\u001b[0m\u001b[0;34m.\u001b[0m\u001b[0mdeterminante\u001b[0m\u001b[0;34m(\u001b[0m\u001b[0;34m)\u001b[0m\u001b[0;34m\u001b[0m\u001b[0;34m\u001b[0m\u001b[0m\n\u001b[1;32m      3\u001b[0m \u001b[0mprint\u001b[0m\u001b[0;34m(\u001b[0m\u001b[0;34m\"Determinante:\"\u001b[0m\u001b[0;34m,\u001b[0m \u001b[0mdeterminante\u001b[0m\u001b[0;34m)\u001b[0m\u001b[0;34m\u001b[0m\u001b[0;34m\u001b[0m\u001b[0m\n",
            "\u001b[0;31mTypeError\u001b[0m: CalcularDeterminante.__init__() missing 1 required positional argument: 'determinante'"
          ]
        }
      ]
    }
  ]
}
{
  "nbformat": 4,
  "nbformat_minor": 0,
  "metadata": {
    "colab": {
      "provenance": []
    },
    "kernelspec": {
      "name": "python3",
      "display_name": "Python 3"
    },
    "language_info": {
      "name": "python"
    }
  },
  "cells": [
    {
      "cell_type": "code",
      "execution_count": null,
      "metadata": {
        "id": "YGuVKN4jnMtW"
      },
      "outputs": [],
      "source": []
    },
    {
      "cell_type": "markdown",
      "source": [
        "# Primer parcial\n",
        "### Area y perimetros de triángulos\n",
        "### Lista de elementos a una matriz 4x4\n",
        "### Calcular la determinante"
      ],
      "metadata": {
        "id": "kxDDHsRKnNnL"
      }
    },
    {
      "cell_type": "code",
      "source": [
        "# Fórmula de áreas, perimetros de triangulos equilateros\n",
        "import numpy as Octavius\n",
        "#Importar los datos con el nombre de Octavius\n",
        "\n",
        "class Examen():\n",
        "  def __init__(self):\n",
        "    print(\"Examen Parcial\")\n"
      ],
      "metadata": {
        "id": "c0EMZwsQn3a6"
      },
      "execution_count": null,
      "outputs": []
    },
    {
      "cell_type": "code",
      "source": [
        "examen = Examen()"
      ],
      "metadata": {
        "colab": {
          "base_uri": "https://localhost:8080/"
        },
        "id": "q0NQkwBm41UT",
        "outputId": "fbb7e4c2-e0a5-441f-804c-2a72c5bb883b"
      },
      "execution_count": null,
      "outputs": [
        {
          "output_type": "stream",
          "name": "stdout",
          "text": [
            "Examen Parcial\n"
          ]
        }
      ]
    },
    {
      "cell_type": "code",
      "source": [
        "class Triangulo(Examen):\n",
        "\n",
        "  def __init__(self):\n",
        "    Examen.__init__(self)\n",
        "    print(\"Clase heredada de triangulo\")\n",
        "\n",
        "  def ap_triangulo(self):\n",
        "    lado = int(input(\"Ingrese un valor \"))\n",
        "    h = ((lado*Octavius.sqrt(3))/2)\n",
        "    area = (lado*2*Octavius.sqrt(3)/4)\n",
        "    perimetro = 3*lado\n",
        "\n",
        "    #Regresar los datos con el valor dado por el usuario\n",
        "    print(\"Su triangulo de \", lado, \"por lado tiene los siguientes valores: \")\n",
        "    print(\"El área es:\", area)\n",
        "    print(\"El perimetro es:\", perimetro)\n"
      ],
      "metadata": {
        "id": "89EtJZXd4hi2"
      },
      "execution_count": null,
      "outputs": []
    },
    {
      "cell_type": "code",
      "source": [
        "triangulo = Triangulo()"
      ],
      "metadata": {
        "colab": {
          "base_uri": "https://localhost:8080/"
        },
        "id": "0nI9Q9Tr5hAz",
        "outputId": "9ae716d0-a080-4b8c-c2e7-370c896de8f0"
      },
      "execution_count": null,
      "outputs": [
        {
          "output_type": "stream",
          "name": "stdout",
          "text": [
            "Examen Parcial\n",
            "Clase heredada de triangulo\n"
          ]
        }
      ]
    },
    {
      "cell_type": "code",
      "source": [
        "triangulo.ap_triangulo()"
      ],
      "metadata": {
        "colab": {
          "base_uri": "https://localhost:8080/"
        },
        "id": "d35NK7eD5TWQ",
        "outputId": "3dae424c-75d7-42ef-c1da-dd58d80f5429"
      },
      "execution_count": null,
      "outputs": [
        {
          "output_type": "stream",
          "name": "stdout",
          "text": [
            "Ingrese un valor 2\n",
            "Su triangulo de  2 por lado tiene los siguientes valores: \n",
            "El área es: 1.7320508075688772\n",
            "El perimetro es: 6\n"
          ]
        }
      ]
    },
    {
      "cell_type": "code",
      "source": [
        "class Matriz(Examen):\n",
        "\n",
        "  def __init__(self):\n",
        "    Examen.__init__(self)\n",
        "    print(\"Clase heredada de la Matriz\")\n",
        "\n",
        "    def matriz(self, numeros):\n",
        "        print(Octavius.array(numeros).reshape(4, 4))\n",
        "\n",
        "    def determinante(self,Primer):\n",
        "        print(Octavius.linalg.det(Primer))\n",
        "\n",
        "class TranformarMatriz(Matriz):\n",
        "        def __init__(self, numeros):\n",
        "            self.numeros = numeros\n",
        "\n",
        "        def tranformar(self):\n",
        "            return Octavius.array(self.numeros).reshape(4,4)\n",
        "\n",
        "class CalculadoraDeterminante():\n",
        "    def __init__(self,matriz):\n",
        "      Examen.__init__(self)\n",
        "      self.matriz = matriz\n",
        "\n",
        "      def determinante(self):\n",
        "        print(np.linalg.det(matriz))"
      ],
      "metadata": {
        "id": "UdQRVr0P5wtp"
      },
      "execution_count": 158,
      "outputs": []
    },
    {
      "cell_type": "code",
      "source": [
        "matriz = Matriz()"
      ],
      "metadata": {
        "colab": {
          "base_uri": "https://localhost:8080/"
        },
        "id": "FPIFgHy1DnPG",
        "outputId": "dd435094-f666-4a8f-cd0d-9892ddbaa71a"
      },
      "execution_count": null,
      "outputs": [
        {
          "output_type": "stream",
          "name": "stdout",
          "text": [
            "Examen Parcial\n",
            "Clase heredada de la Matriz\n"
          ]
        }
      ]
    },
    {
      "cell_type": "code",
      "source": [
        "numeros = [i for i in range (1,17)]\n",
        "transformador = TranformarMatriz(numeros)\n",
        "matriz = transformador.tranformar()\n",
        "print(\"Matriz 4x4: \")\n",
        "print(matriz)"
      ],
      "metadata": {
        "colab": {
          "base_uri": "https://localhost:8080/"
        },
        "id": "g60Q7pEMDxKN",
        "outputId": "4f797358-74ce-4aa5-db28-7969eff475cf"
      },
      "execution_count": 163,
      "outputs": [
        {
          "output_type": "stream",
          "name": "stdout",
          "text": [
            "Matriz 4x4: \n",
            "[[ 1  2  3  4]\n",
            " [ 5  6  7  8]\n",
            " [ 9 10 11 12]\n",
            " [13 14 15 16]]\n"
          ]
        }
      ]
    },
    {
      "cell_type": "code",
      "source": [],
      "metadata": {
        "id": "fGtmMDKcMr4C"
      },
      "execution_count": null,
      "outputs": []
    }
  ]
}
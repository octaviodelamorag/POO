{
  "nbformat": 4,
  "nbformat_minor": 0,
  "metadata": {
    "colab": {
      "provenance": []
    },
    "kernelspec": {
      "name": "python3",
      "display_name": "Python 3"
    },
    "language_info": {
      "name": "python"
    }
  },
  "cells": [
    {
      "cell_type": "markdown",
      "source": [
        "#Matrices"
      ],
      "metadata": {
        "id": "eUxWGvBPnnzE"
      }
    },
    {
      "cell_type": "code",
      "source": [
        "import numpy as np"
      ],
      "metadata": {
        "id": "JLPpn4n0n7yN"
      },
      "execution_count": 7,
      "outputs": []
    },
    {
      "cell_type": "code",
      "source": [
        "np.random.seed(1)\n",
        "\n",
        "np.random.randint(1,21, size=15)"
      ],
      "metadata": {
        "colab": {
          "base_uri": "https://localhost:8080/"
        },
        "id": "2SWXqgbooGcs",
        "outputId": "7ffb9872-63d6-470a-9763-4f608d989a23"
      },
      "execution_count": 6,
      "outputs": [
        {
          "output_type": "execute_result",
          "data": {
            "text/plain": [
              "array([ 6, 12, 13,  9, 10, 12,  6, 16,  1, 17,  2, 13,  8, 14,  7])"
            ]
          },
          "metadata": {},
          "execution_count": 6
        }
      ]
    },
    {
      "cell_type": "code",
      "source": [
        "#Crea una lista que arroja 40 números del cual elige solo los pares\n",
        "L=[i for i in np.random.randint(1,21, size=40) if i%2==0]\n",
        "#Acomoda los números de menor a mayor\n",
        "L.sort()\n",
        "L"
      ],
      "metadata": {
        "colab": {
          "base_uri": "https://localhost:8080/"
        },
        "id": "X9xL2CdPnri6",
        "outputId": "5c8b2152-c50a-44c4-fd4d-3d2e00af9267"
      },
      "execution_count": 38,
      "outputs": [
        {
          "output_type": "execute_result",
          "data": {
            "text/plain": [
              "[2,\n",
              " 4,\n",
              " 4,\n",
              " 6,\n",
              " 6,\n",
              " 8,\n",
              " 8,\n",
              " 10,\n",
              " 12,\n",
              " 12,\n",
              " 14,\n",
              " 14,\n",
              " 14,\n",
              " 14,\n",
              " 14,\n",
              " 14,\n",
              " 16,\n",
              " 16,\n",
              " 18,\n",
              " 18,\n",
              " 18,\n",
              " 18,\n",
              " 20]"
            ]
          },
          "metadata": {},
          "execution_count": 38
        }
      ]
    },
    {
      "cell_type": "code",
      "source": [
        "l."
      ],
      "metadata": {
        "id": "3N8DKJeOyM_B"
      },
      "execution_count": null,
      "outputs": []
    },
    {
      "cell_type": "code",
      "source": [
        "#Muestra un número de la lista de acuerdo al número ingresado\n",
        "L.pop(1)"
      ],
      "metadata": {
        "colab": {
          "base_uri": "https://localhost:8080/"
        },
        "id": "0FqYb-xKvv90",
        "outputId": "62aed183-0a92-4bb9-fee2-bc01dcd2562d"
      },
      "execution_count": 44,
      "outputs": [
        {
          "output_type": "execute_result",
          "data": {
            "text/plain": [
              "4"
            ]
          },
          "metadata": {},
          "execution_count": 44
        }
      ]
    },
    {
      "cell_type": "code",
      "source": [
        "#Agrega un elemento a la lista\n",
        "L+[4]"
      ],
      "metadata": {
        "colab": {
          "base_uri": "https://localhost:8080/"
        },
        "id": "B4DAF7_vzRGk",
        "outputId": "c3d526ad-f4aa-4691-a56b-ca67df5373e1"
      },
      "execution_count": 54,
      "outputs": [
        {
          "output_type": "execute_result",
          "data": {
            "text/plain": [
              "[2, 6, 6, 12, 14, 14, 14, 14, 14, 14, 16, 16, 18, 18, 18, 18, 20, 4]"
            ]
          },
          "metadata": {},
          "execution_count": 54
        }
      ]
    },
    {
      "cell_type": "code",
      "source": [
        "#Elimina unelemento de la lista\n",
        "L.remove(2)\n",
        "L"
      ],
      "metadata": {
        "colab": {
          "base_uri": "https://localhost:8080/"
        },
        "id": "D2J6RcdczIW7",
        "outputId": "c85f74a4-0605-436d-ad8a-60ad558ab6d3"
      },
      "execution_count": 60,
      "outputs": [
        {
          "output_type": "execute_result",
          "data": {
            "text/plain": [
              "[6, 6, 12, 14, 14, 14, 14, 14, 14, 16, 16, 18, 18, 18, 18, 20]"
            ]
          },
          "metadata": {},
          "execution_count": 60
        }
      ]
    },
    {
      "cell_type": "code",
      "source": [
        "#Transforma la lista en un vector\n",
        "L_arreglo = np.array(L)\n",
        "L_arreglo"
      ],
      "metadata": {
        "colab": {
          "base_uri": "https://localhost:8080/"
        },
        "id": "4Nx3Zapgwwd4",
        "outputId": "082e7be7-b21c-4c53-ae97-c858f19d6fdf"
      },
      "execution_count": 61,
      "outputs": [
        {
          "output_type": "execute_result",
          "data": {
            "text/plain": [
              "array([ 6,  6, 12, 14, 14, 14, 14, 14, 14, 16, 16, 18, 18, 18, 18, 20])"
            ]
          },
          "metadata": {},
          "execution_count": 61
        }
      ]
    },
    {
      "cell_type": "code",
      "source": [
        "#Muestra la cantidad de números que tiene la lista\n",
        "len(L_arreglo)"
      ],
      "metadata": {
        "colab": {
          "base_uri": "https://localhost:8080/"
        },
        "id": "SaMMEVXPx-A6",
        "outputId": "f7c9a1b1-6d41-46c1-8dc9-4e76f80493fb"
      },
      "execution_count": 62,
      "outputs": [
        {
          "output_type": "execute_result",
          "data": {
            "text/plain": [
              "16"
            ]
          },
          "metadata": {},
          "execution_count": 62
        }
      ]
    },
    {
      "cell_type": "code",
      "source": [
        "#Convierte la matriz en diferentes dimensiones\n",
        "L_arreglo.reshape(4,4)"
      ],
      "metadata": {
        "colab": {
          "base_uri": "https://localhost:8080/"
        },
        "id": "SopOonW4z3Lt",
        "outputId": "9a784856-8042-4c2d-8e5b-d946f1e2a41e"
      },
      "execution_count": 65,
      "outputs": [
        {
          "output_type": "execute_result",
          "data": {
            "text/plain": [
              "array([[ 6,  6, 12, 14],\n",
              "       [14, 14, 14, 14],\n",
              "       [14, 16, 16, 18],\n",
              "       [18, 18, 18, 20]])"
            ]
          },
          "metadata": {},
          "execution_count": 65
        }
      ]
    },
    {
      "cell_type": "code",
      "source": [
        "M_matriz = np.array([2, 3, 14, 15, 8, 7, 20, 22, 69]).reshape(3,3)"
      ],
      "metadata": {
        "id": "nL469tau1rqc"
      },
      "execution_count": 69,
      "outputs": []
    },
    {
      "cell_type": "code",
      "source": [
        "L_matriz = np.array([1, 2, 17, 18, 23, 7, 20, 25, 9]).reshape(3,3)"
      ],
      "metadata": {
        "id": "fhYCkXE62ACD"
      },
      "execution_count": 70,
      "outputs": []
    },
    {
      "cell_type": "code",
      "source": [
        "#Multiplica matrices\n",
        "N = L_matriz @ M_matriz\n",
        "N"
      ],
      "metadata": {
        "colab": {
          "base_uri": "https://localhost:8080/"
        },
        "id": "P0wWvdeR2ZD2",
        "outputId": "86d5c749-6943-403d-df33-4ce4701ca691"
      },
      "execution_count": 73,
      "outputs": [
        {
          "output_type": "execute_result",
          "data": {
            "text/plain": [
              "array([[ 372,  393, 1201],\n",
              "       [ 521,  392,  896],\n",
              "       [ 595,  458, 1076]])"
            ]
          },
          "metadata": {},
          "execution_count": 73
        }
      ]
    },
    {
      "cell_type": "code",
      "source": [
        "#Convierte en determinante\n",
        "np.linalg.det(N)"
      ],
      "metadata": {
        "colab": {
          "base_uri": "https://localhost:8080/"
        },
        "id": "ouNo1ssC2xjE",
        "outputId": "8c38a66e-c1ba-4c08-f551-f2fbaeea8b5a"
      },
      "execution_count": 74,
      "outputs": [
        {
          "output_type": "execute_result",
          "data": {
            "text/plain": [
              "-89362.00000000639"
            ]
          },
          "metadata": {},
          "execution_count": 74
        }
      ]
    }
  ]
}